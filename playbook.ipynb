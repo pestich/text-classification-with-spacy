{
 "cells": [
  {
   "cell_type": "code",
   "execution_count": 61,
   "metadata": {},
   "outputs": [],
   "source": [
    "import pandas as pd\n",
    "import spacy\n",
    "from tqdm import tqdm\n",
    "tqdm.pandas()\n",
    "\n",
    "from spacy.tokens import DocBin\n"
   ]
  },
  {
   "cell_type": "code",
   "execution_count": 10,
   "metadata": {},
   "outputs": [],
   "source": [
    "df = pd.read_csv('./raw_data/ecommerceDataset.csv', names=['Ptype','Description'])"
   ]
  },
  {
   "cell_type": "code",
   "execution_count": 28,
   "metadata": {},
   "outputs": [
    {
     "name": "stdout",
     "output_type": "stream",
     "text": [
      "<class 'pandas.core.frame.DataFrame'>\n",
      "Index: 50424 entries, 0 to 50424\n",
      "Data columns (total 2 columns):\n",
      " #   Column       Non-Null Count  Dtype \n",
      "---  ------       --------------  ----- \n",
      " 0   Ptype        50424 non-null  object\n",
      " 1   Description  50424 non-null  object\n",
      "dtypes: object(2)\n",
      "memory usage: 1.2+ MB\n"
     ]
    }
   ],
   "source": [
    "df.info()"
   ]
  },
  {
   "cell_type": "code",
   "execution_count": 21,
   "metadata": {},
   "outputs": [
    {
     "data": {
      "text/html": [
       "<div>\n",
       "<style scoped>\n",
       "    .dataframe tbody tr th:only-of-type {\n",
       "        vertical-align: middle;\n",
       "    }\n",
       "\n",
       "    .dataframe tbody tr th {\n",
       "        vertical-align: top;\n",
       "    }\n",
       "\n",
       "    .dataframe thead th {\n",
       "        text-align: right;\n",
       "    }\n",
       "</style>\n",
       "<table border=\"1\" class=\"dataframe\">\n",
       "  <thead>\n",
       "    <tr style=\"text-align: right;\">\n",
       "      <th></th>\n",
       "      <th>Ptype</th>\n",
       "      <th>Description</th>\n",
       "    </tr>\n",
       "  </thead>\n",
       "  <tbody>\n",
       "    <tr>\n",
       "      <th>0</th>\n",
       "      <td>Clothing &amp; Accessories</td>\n",
       "      <td>Jockey Men's Cotton Vest (Pack of 3) (Modern C...</td>\n",
       "    </tr>\n",
       "    <tr>\n",
       "      <th>1</th>\n",
       "      <td>Household</td>\n",
       "      <td>Clearline CLR 009 1000-Watt Soup Maker and Ble...</td>\n",
       "    </tr>\n",
       "    <tr>\n",
       "      <th>2</th>\n",
       "      <td>Electronics</td>\n",
       "      <td>iVoltaa 3.5mm Braided Aux (Auxiliary) Audio Ca...</td>\n",
       "    </tr>\n",
       "    <tr>\n",
       "      <th>3</th>\n",
       "      <td>Electronics</td>\n",
       "      <td>MikroTik Wireless Access Point RB951Ui-2HnD mi...</td>\n",
       "    </tr>\n",
       "    <tr>\n",
       "      <th>4</th>\n",
       "      <td>Household</td>\n",
       "      <td>Bull 4 Socket,4 Switch,3 M Wire Extension Boar...</td>\n",
       "    </tr>\n",
       "    <tr>\n",
       "      <th>5</th>\n",
       "      <td>Electronics</td>\n",
       "      <td>Systene Clear Sound High Bass Touch Two Stereo...</td>\n",
       "    </tr>\n",
       "    <tr>\n",
       "      <th>6</th>\n",
       "      <td>Household</td>\n",
       "      <td>DAMAC Multi Microfibre Super Soft Diwan Set (8...</td>\n",
       "    </tr>\n",
       "    <tr>\n",
       "      <th>7</th>\n",
       "      <td>Household</td>\n",
       "      <td>Homesake Frost White Tealight Holder, Set of 4...</td>\n",
       "    </tr>\n",
       "    <tr>\n",
       "      <th>8</th>\n",
       "      <td>Household</td>\n",
       "      <td>Home Puff Silicone Premium Shredder Vegetable ...</td>\n",
       "    </tr>\n",
       "    <tr>\n",
       "      <th>9</th>\n",
       "      <td>Electronics</td>\n",
       "      <td>xcluma Antenna for GSM FCT Device GSM FCT Cabl...</td>\n",
       "    </tr>\n",
       "  </tbody>\n",
       "</table>\n",
       "</div>"
      ],
      "text/plain": [
       "                    Ptype                                        Description\n",
       "0  Clothing & Accessories  Jockey Men's Cotton Vest (Pack of 3) (Modern C...\n",
       "1               Household  Clearline CLR 009 1000-Watt Soup Maker and Ble...\n",
       "2             Electronics  iVoltaa 3.5mm Braided Aux (Auxiliary) Audio Ca...\n",
       "3             Electronics  MikroTik Wireless Access Point RB951Ui-2HnD mi...\n",
       "4               Household  Bull 4 Socket,4 Switch,3 M Wire Extension Boar...\n",
       "5             Electronics  Systene Clear Sound High Bass Touch Two Stereo...\n",
       "6               Household  DAMAC Multi Microfibre Super Soft Diwan Set (8...\n",
       "7               Household  Homesake Frost White Tealight Holder, Set of 4...\n",
       "8               Household  Home Puff Silicone Premium Shredder Vegetable ...\n",
       "9             Electronics  xcluma Antenna for GSM FCT Device GSM FCT Cabl..."
      ]
     },
     "execution_count": 21,
     "metadata": {},
     "output_type": "execute_result"
    }
   ],
   "source": [
    "df.head(10)"
   ]
  },
  {
   "cell_type": "code",
   "execution_count": 22,
   "metadata": {},
   "outputs": [],
   "source": [
    "df = df.sample(frac=1).reset_index(drop=True)"
   ]
  },
  {
   "cell_type": "code",
   "execution_count": 23,
   "metadata": {},
   "outputs": [
    {
     "data": {
      "text/html": [
       "<div>\n",
       "<style scoped>\n",
       "    .dataframe tbody tr th:only-of-type {\n",
       "        vertical-align: middle;\n",
       "    }\n",
       "\n",
       "    .dataframe tbody tr th {\n",
       "        vertical-align: top;\n",
       "    }\n",
       "\n",
       "    .dataframe thead th {\n",
       "        text-align: right;\n",
       "    }\n",
       "</style>\n",
       "<table border=\"1\" class=\"dataframe\">\n",
       "  <thead>\n",
       "    <tr style=\"text-align: right;\">\n",
       "      <th></th>\n",
       "      <th>Ptype</th>\n",
       "      <th>Description</th>\n",
       "    </tr>\n",
       "  </thead>\n",
       "  <tbody>\n",
       "    <tr>\n",
       "      <th>0</th>\n",
       "      <td>Household</td>\n",
       "      <td>Rajesh LED Bulb for Automatic Sewing Machines ...</td>\n",
       "    </tr>\n",
       "    <tr>\n",
       "      <th>1</th>\n",
       "      <td>Electronics</td>\n",
       "      <td>Wooky Aqua Stone-10 5W Wireless Waterproof Blu...</td>\n",
       "    </tr>\n",
       "    <tr>\n",
       "      <th>2</th>\n",
       "      <td>Electronics</td>\n",
       "      <td>Amkette Xcite Pro USB Keyboard (Black) The new...</td>\n",
       "    </tr>\n",
       "    <tr>\n",
       "      <th>3</th>\n",
       "      <td>Books</td>\n",
       "      <td>24 Years UPSC IAS/ IPS Prelims Topic-wise Solv...</td>\n",
       "    </tr>\n",
       "    <tr>\n",
       "      <th>4</th>\n",
       "      <td>Books</td>\n",
       "      <td>Group Discussion Evam Interview Ki Tayari</td>\n",
       "    </tr>\n",
       "    <tr>\n",
       "      <th>5</th>\n",
       "      <td>Electronics</td>\n",
       "      <td>APC BX600C-IN 600VA, 230V Back UPS Battery bac...</td>\n",
       "    </tr>\n",
       "    <tr>\n",
       "      <th>6</th>\n",
       "      <td>Clothing &amp; Accessories</td>\n",
       "      <td>BODYCARE Printed Girls Bloomer Pack of 6 from ...</td>\n",
       "    </tr>\n",
       "    <tr>\n",
       "      <th>7</th>\n",
       "      <td>Electronics</td>\n",
       "      <td>Adichai Educational Toy Real Working Science M...</td>\n",
       "    </tr>\n",
       "    <tr>\n",
       "      <th>8</th>\n",
       "      <td>Books</td>\n",
       "      <td>Orphan X (Evan Smoak)</td>\n",
       "    </tr>\n",
       "    <tr>\n",
       "      <th>9</th>\n",
       "      <td>Books</td>\n",
       "      <td>Action Shoes Men's Sneakers What one needs is ...</td>\n",
       "    </tr>\n",
       "  </tbody>\n",
       "</table>\n",
       "</div>"
      ],
      "text/plain": [
       "                    Ptype                                        Description\n",
       "0               Household  Rajesh LED Bulb for Automatic Sewing Machines ...\n",
       "1             Electronics  Wooky Aqua Stone-10 5W Wireless Waterproof Blu...\n",
       "2             Electronics  Amkette Xcite Pro USB Keyboard (Black) The new...\n",
       "3                   Books  24 Years UPSC IAS/ IPS Prelims Topic-wise Solv...\n",
       "4                   Books         Group Discussion Evam Interview Ki Tayari \n",
       "5             Electronics  APC BX600C-IN 600VA, 230V Back UPS Battery bac...\n",
       "6  Clothing & Accessories  BODYCARE Printed Girls Bloomer Pack of 6 from ...\n",
       "7             Electronics  Adichai Educational Toy Real Working Science M...\n",
       "8                   Books                              Orphan X (Evan Smoak)\n",
       "9                   Books  Action Shoes Men's Sneakers What one needs is ..."
      ]
     },
     "execution_count": 23,
     "metadata": {},
     "output_type": "execute_result"
    }
   ],
   "source": [
    "df.head(10)"
   ]
  },
  {
   "cell_type": "code",
   "execution_count": 24,
   "metadata": {},
   "outputs": [
    {
     "data": {
      "text/plain": [
       "Ptype          0\n",
       "Description    1\n",
       "dtype: int64"
      ]
     },
     "execution_count": 24,
     "metadata": {},
     "output_type": "execute_result"
    }
   ],
   "source": [
    "df.isna().sum()"
   ]
  },
  {
   "cell_type": "code",
   "execution_count": 26,
   "metadata": {},
   "outputs": [],
   "source": [
    "df = df.dropna()"
   ]
  },
  {
   "cell_type": "code",
   "execution_count": 27,
   "metadata": {},
   "outputs": [
    {
     "data": {
      "text/html": [
       "<div>\n",
       "<style scoped>\n",
       "    .dataframe tbody tr th:only-of-type {\n",
       "        vertical-align: middle;\n",
       "    }\n",
       "\n",
       "    .dataframe tbody tr th {\n",
       "        vertical-align: top;\n",
       "    }\n",
       "\n",
       "    .dataframe thead th {\n",
       "        text-align: right;\n",
       "    }\n",
       "</style>\n",
       "<table border=\"1\" class=\"dataframe\">\n",
       "  <thead>\n",
       "    <tr style=\"text-align: right;\">\n",
       "      <th></th>\n",
       "      <th>Ptype</th>\n",
       "      <th>Description</th>\n",
       "    </tr>\n",
       "  </thead>\n",
       "  <tbody>\n",
       "    <tr>\n",
       "      <th>0</th>\n",
       "      <td>Household</td>\n",
       "      <td>Rajesh LED Bulb for Automatic Sewing Machines ...</td>\n",
       "    </tr>\n",
       "    <tr>\n",
       "      <th>1</th>\n",
       "      <td>Electronics</td>\n",
       "      <td>Wooky Aqua Stone-10 5W Wireless Waterproof Blu...</td>\n",
       "    </tr>\n",
       "    <tr>\n",
       "      <th>2</th>\n",
       "      <td>Electronics</td>\n",
       "      <td>Amkette Xcite Pro USB Keyboard (Black) The new...</td>\n",
       "    </tr>\n",
       "    <tr>\n",
       "      <th>3</th>\n",
       "      <td>Books</td>\n",
       "      <td>24 Years UPSC IAS/ IPS Prelims Topic-wise Solv...</td>\n",
       "    </tr>\n",
       "    <tr>\n",
       "      <th>4</th>\n",
       "      <td>Books</td>\n",
       "      <td>Group Discussion Evam Interview Ki Tayari</td>\n",
       "    </tr>\n",
       "    <tr>\n",
       "      <th>...</th>\n",
       "      <td>...</td>\n",
       "      <td>...</td>\n",
       "    </tr>\n",
       "    <tr>\n",
       "      <th>50420</th>\n",
       "      <td>Books</td>\n",
       "      <td>Meditations (Modern Library MM) Review “Here, ...</td>\n",
       "    </tr>\n",
       "    <tr>\n",
       "      <th>50421</th>\n",
       "      <td>Books</td>\n",
       "      <td>Handbook of Mechanical Engineering</td>\n",
       "    </tr>\n",
       "    <tr>\n",
       "      <th>50422</th>\n",
       "      <td>Clothing &amp; Accessories</td>\n",
       "      <td>WEXFORD Men's Cotton Polo (Wex-Wfe010B) Wexfor...</td>\n",
       "    </tr>\n",
       "    <tr>\n",
       "      <th>50423</th>\n",
       "      <td>Electronics</td>\n",
       "      <td>Andoer V12 1080P Full HD 16X Digital Zoom Reco...</td>\n",
       "    </tr>\n",
       "    <tr>\n",
       "      <th>50424</th>\n",
       "      <td>Books</td>\n",
       "      <td>The 5 AM Club: Own Your Morning, Elevate Your ...</td>\n",
       "    </tr>\n",
       "  </tbody>\n",
       "</table>\n",
       "<p>50424 rows × 2 columns</p>\n",
       "</div>"
      ],
      "text/plain": [
       "                        Ptype  \\\n",
       "0                   Household   \n",
       "1                 Electronics   \n",
       "2                 Electronics   \n",
       "3                       Books   \n",
       "4                       Books   \n",
       "...                       ...   \n",
       "50420                   Books   \n",
       "50421                   Books   \n",
       "50422  Clothing & Accessories   \n",
       "50423             Electronics   \n",
       "50424                   Books   \n",
       "\n",
       "                                             Description  \n",
       "0      Rajesh LED Bulb for Automatic Sewing Machines ...  \n",
       "1      Wooky Aqua Stone-10 5W Wireless Waterproof Blu...  \n",
       "2      Amkette Xcite Pro USB Keyboard (Black) The new...  \n",
       "3      24 Years UPSC IAS/ IPS Prelims Topic-wise Solv...  \n",
       "4             Group Discussion Evam Interview Ki Tayari   \n",
       "...                                                  ...  \n",
       "50420  Meditations (Modern Library MM) Review “Here, ...  \n",
       "50421                Handbook of Mechanical Engineering   \n",
       "50422  WEXFORD Men's Cotton Polo (Wex-Wfe010B) Wexfor...  \n",
       "50423  Andoer V12 1080P Full HD 16X Digital Zoom Reco...  \n",
       "50424  The 5 AM Club: Own Your Morning, Elevate Your ...  \n",
       "\n",
       "[50424 rows x 2 columns]"
      ]
     },
     "execution_count": 27,
     "metadata": {},
     "output_type": "execute_result"
    }
   ],
   "source": [
    "df"
   ]
  },
  {
   "cell_type": "code",
   "execution_count": 25,
   "metadata": {},
   "outputs": [
    {
     "data": {
      "text/plain": [
       "22622"
      ]
     },
     "execution_count": 25,
     "metadata": {},
     "output_type": "execute_result"
    }
   ],
   "source": [
    "df.duplicated().sum()"
   ]
  },
  {
   "cell_type": "code",
   "execution_count": 29,
   "metadata": {},
   "outputs": [],
   "source": [
    "df = df.drop_duplicates()"
   ]
  },
  {
   "cell_type": "code",
   "execution_count": 31,
   "metadata": {},
   "outputs": [
    {
     "name": "stdout",
     "output_type": "stream",
     "text": [
      "<class 'pandas.core.frame.DataFrame'>\n",
      "Index: 27802 entries, 0 to 50408\n",
      "Data columns (total 2 columns):\n",
      " #   Column       Non-Null Count  Dtype \n",
      "---  ------       --------------  ----- \n",
      " 0   Ptype        27802 non-null  object\n",
      " 1   Description  27802 non-null  object\n",
      "dtypes: object(2)\n",
      "memory usage: 651.6+ KB\n"
     ]
    }
   ],
   "source": [
    "df.info()"
   ]
  },
  {
   "cell_type": "code",
   "execution_count": 32,
   "metadata": {},
   "outputs": [],
   "source": [
    "df = df.reset_index(drop=True)"
   ]
  },
  {
   "cell_type": "code",
   "execution_count": 33,
   "metadata": {},
   "outputs": [
    {
     "data": {
      "text/plain": [
       "array(['Household', 'Electronics', 'Books', 'Clothing & Accessories'],\n",
       "      dtype=object)"
      ]
     },
     "execution_count": 33,
     "metadata": {},
     "output_type": "execute_result"
    }
   ],
   "source": [
    "df['Ptype'].unique()"
   ]
  },
  {
   "cell_type": "code",
   "execution_count": 34,
   "metadata": {},
   "outputs": [
    {
     "data": {
      "text/plain": [
       "Ptype\n",
       "Household                 10564\n",
       "Books                      6256\n",
       "Clothing & Accessories     5674\n",
       "Electronics                5308\n",
       "Name: count, dtype: int64"
      ]
     },
     "execution_count": 34,
     "metadata": {},
     "output_type": "execute_result"
    }
   ],
   "source": [
    "df['Ptype'].value_counts()"
   ]
  },
  {
   "cell_type": "code",
   "execution_count": 39,
   "metadata": {},
   "outputs": [],
   "source": [
    "nlp = spacy.load('en_core_web_md', exclude=['tok2vec', 'tagger', 'morphologizer', 'parser', 'attribute_ruler', 'ner'])"
   ]
  },
  {
   "cell_type": "code",
   "execution_count": 41,
   "metadata": {},
   "outputs": [
    {
     "name": "stdout",
     "output_type": "stream",
     "text": [
      "CPU times: total: 0 ns\n",
      "Wall time: 0 ns\n"
     ]
    },
    {
     "data": {
      "text/plain": [
       "['lemmatizer']"
      ]
     },
     "execution_count": 41,
     "metadata": {},
     "output_type": "execute_result"
    }
   ],
   "source": [
    "nlp.pipe_names"
   ]
  },
  {
   "cell_type": "code",
   "execution_count": 49,
   "metadata": {},
   "outputs": [
    {
     "name": "stderr",
     "output_type": "stream",
     "text": [
      "c:\\Users\\wilte\\OneDrive\\Рабочий стол\\projects\\text-classification-with-spacy\\venv\\Lib\\site-packages\\spacy\\pipeline\\lemmatizer.py:211: UserWarning: [W108] The rule-based lemmatizer did not find POS annotation for one or more tokens. Check that your pipeline includes components that assign token.pos, typically 'tagger'+'attribute_ruler' or 'morphologizer'.\n",
      "  warnings.warn(Warnings.W108)\n"
     ]
    },
    {
     "name": "stdout",
     "output_type": "stream",
     "text": [
      "CPU times: total: 391 ms\n",
      "Wall time: 16.7 s\n"
     ]
    }
   ],
   "source": [
    "%%time\n",
    "df['docs'] = list(nlp.pipe(df['Description'], n_process=1, batch_size=2000))"
   ]
  },
  {
   "cell_type": "code",
   "execution_count": 50,
   "metadata": {},
   "outputs": [],
   "source": [
    "def lemmatize(doc):\n",
    "    words = []\n",
    "    for token in doc:\n",
    "        if (token.is_stop != True) and (token.is_punct != True) and (token.is_space != True) and (token.is_digit != True):\n",
    "            words.append(token.lemma_)\n",
    "    return ' '.join(words)\n"
   ]
  },
  {
   "cell_type": "code",
   "execution_count": 52,
   "metadata": {},
   "outputs": [
    {
     "name": "stderr",
     "output_type": "stream",
     "text": [
      "100%|██████████| 27802/27802 [00:01<00:00, 16684.23it/s]\n"
     ]
    }
   ],
   "source": [
    "df['clear_text'] = df['docs'].progress_apply(lemmatize)"
   ]
  },
  {
   "cell_type": "code",
   "execution_count": 58,
   "metadata": {},
   "outputs": [],
   "source": [
    "train = df[['clear_text', 'Ptype']][:20000]\n",
    "dev = df[['clear_text', 'Ptype']][20000:23000]\n",
    "test = df[['clear_text', 'Ptype']][23000:]"
   ]
  },
  {
   "cell_type": "code",
   "execution_count": 60,
   "metadata": {},
   "outputs": [
    {
     "data": {
      "text/plain": [
       "((20000, 2), (3000, 2), (4802, 2))"
      ]
     },
     "execution_count": 60,
     "metadata": {},
     "output_type": "execute_result"
    }
   ],
   "source": [
    "train.shape, dev.shape, test.shape"
   ]
  },
  {
   "cell_type": "code",
   "execution_count": 66,
   "metadata": {},
   "outputs": [],
   "source": [
    "train = train.reset_index(drop=True)\n",
    "dev = dev.reset_index(drop=True)\n",
    "test = test.reset_index(drop=True)"
   ]
  },
  {
   "cell_type": "code",
   "execution_count": 63,
   "metadata": {},
   "outputs": [],
   "source": [
    "def create_docbin(data, outfile):\n",
    "    db = DocBin()\n",
    "    categories = data['Ptype'].unique()\n",
    "    for i in range(data.shape[0]):    \n",
    "        doc = nlp.make_doc(data['clear_text'][i])\n",
    "        doc.cats = {category: 0 for category in categories}\n",
    "        doc.cats[data['Ptype'][i]] = 1\n",
    "        db.add(doc)\n",
    "    db.to_disk(outfile)"
   ]
  },
  {
   "cell_type": "code",
   "execution_count": 67,
   "metadata": {},
   "outputs": [],
   "source": [
    "create_docbin(train, \"./train.spacy\")\n",
    "create_docbin(dev, \"./dev.spacy\")\n",
    "create_docbin(test, \"./test.spacy\")\n"
   ]
  },
  {
   "cell_type": "code",
   "execution_count": 68,
   "metadata": {},
   "outputs": [
    {
     "name": "stdout",
     "output_type": "stream",
     "text": [
      "\u001b[38;5;2m✔ Auto-filled config with all values\u001b[0m\n",
      "\u001b[38;5;2m✔ Saved config\u001b[0m\n",
      "config.cfg\n",
      "You can now add your data and train your pipeline:\n",
      "python -m spacy train config.cfg --paths.train ./train.spacy --paths.dev ./dev.spacy\n"
     ]
    }
   ],
   "source": [
    "!python -m spacy init fill-config base_config.cfg config.cfg"
   ]
  },
  {
   "cell_type": "code",
   "execution_count": 69,
   "metadata": {},
   "outputs": [
    {
     "name": "stdout",
     "output_type": "stream",
     "text": [
      "^C\n"
     ]
    },
    {
     "name": "stdout",
     "output_type": "stream",
     "text": [
      "\u001b[38;5;2m✔ Created output directory: model\u001b[0m\n",
      "\u001b[38;5;4mℹ Saving to output directory: model\u001b[0m\n",
      "\u001b[38;5;4mℹ Using CPU\u001b[0m\n",
      "\u001b[1m\n",
      "=========================== Initializing pipeline ===========================\u001b[0m\n",
      "\u001b[38;5;2m✔ Initialized pipeline\u001b[0m\n",
      "\u001b[1m\n",
      "============================= Training pipeline =============================\u001b[0m\n",
      "\u001b[38;5;4mℹ Pipeline: ['textcat']\u001b[0m\n",
      "\u001b[38;5;4mℹ Initial learn rate: 0.001\u001b[0m\n",
      "E    #       LOSS TEXTCAT  CATS_SCORE  SCORE \n",
      "---  ------  ------------  ----------  ------\n",
      "  0       0          0.19        9.78    0.10\n",
      "  0     200         23.03       85.97    0.86\n",
      "  0     400         13.75       89.85    0.90\n",
      "  0     600          9.98       91.27    0.91\n",
      "  0     800          9.14       91.68    0.92\n",
      "  0    1000          8.13       92.72    0.93\n",
      "  0    1200          7.10       93.20    0.93\n",
      "  0    1400          6.22       93.80    0.94\n",
      "  0    1600          6.78       93.85    0.94\n",
      "  0    1800          6.98       94.24    0.94\n",
      "  0    2000          5.11       94.56    0.95\n",
      "  0    2200          6.56       94.86    0.95\n",
      "  0    2400          5.17       95.16    0.95\n",
      "  0    2600          4.76       95.34    0.95\n",
      "  0    2800          5.66       95.29    0.95\n",
      "  1    3000          4.65       95.27    0.95\n",
      "  1    3200          3.12       95.29    0.95\n",
      "  1    3400          2.96       95.35    0.95\n",
      "  1    3600          2.99       95.45    0.95\n",
      "  1    3800          3.02       95.55    0.96\n",
      "  1    4000          2.94       95.63    0.96\n",
      "  1    4200          3.04       95.69    0.96\n",
      "  1    4400          3.09       95.77    0.96\n",
      "  2    4600          2.49       95.76    0.96\n",
      "  2    4800          2.14       95.52    0.96\n",
      "  2    5000          1.90       95.69    0.96\n",
      "  2    5200          2.08       95.57    0.96\n",
      "  2    5400          2.49       95.47    0.95\n",
      "  2    5600          2.18       95.40    0.95\n",
      "  2    5800          1.77       95.51    0.96\n",
      "  3    6000          1.99       95.52    0.96\n",
      "\u001b[38;5;2m✔ Saved pipeline to output directory\u001b[0m\n",
      "model\\model-last\n"
     ]
    }
   ],
   "source": [
    "!python -m spacy train config.cfg --paths.train ./train.spacy  --paths.dev ./dev.spacy --output model"
   ]
  },
  {
   "cell_type": "code",
   "execution_count": 70,
   "metadata": {},
   "outputs": [
    {
     "name": "stdout",
     "output_type": "stream",
     "text": [
      "\u001b[38;5;4mℹ Using CPU\u001b[0m\n",
      "\u001b[1m\n",
      "================================== Results ==================================\u001b[0m\n",
      "\n",
      "TOK                 100.00\n",
      "TEXTCAT (macro F)   94.21 \n",
      "SPEED               315756\n",
      "\n",
      "\u001b[1m\n",
      "=========================== Textcat F (per label) ===========================\u001b[0m\n",
      "\n",
      "                             P       R       F\n",
      "Household                92.97   96.36   94.63\n",
      "Electronics              93.44   91.70   92.56\n",
      "Books                    94.10   91.63   92.85\n",
      "Clothing & Accessories   97.57   96.01   96.78\n",
      "\n",
      "\u001b[1m\n",
      "======================== Textcat ROC AUC (per label) ========================\u001b[0m\n",
      "\n",
      "                         ROC AUC\n",
      "Household                   0.98\n",
      "Electronics                 0.98\n",
      "Books                       0.97\n",
      "Clothing & Accessories      0.99\n",
      "\n",
      "\u001b[38;5;2m✔ Saved results to metrics.json\u001b[0m\n"
     ]
    }
   ],
   "source": [
    "!python -m spacy evaluate model/model-best/ --output metrics.json ./test.spacy"
   ]
  },
  {
   "cell_type": "code",
   "execution_count": 71,
   "metadata": {},
   "outputs": [],
   "source": [
    "nlp = spacy.load(\"./model/model-best\")"
   ]
  },
  {
   "cell_type": "code",
   "execution_count": 72,
   "metadata": {},
   "outputs": [
    {
     "data": {
      "text/plain": [
       "['textcat']"
      ]
     },
     "execution_count": 72,
     "metadata": {},
     "output_type": "execute_result"
    }
   ],
   "source": [
    "nlp.pipe_names"
   ]
  },
  {
   "cell_type": "code",
   "execution_count": 74,
   "metadata": {},
   "outputs": [],
   "source": [
    "doc = nlp(test['clear_text'][1])"
   ]
  },
  {
   "cell_type": "code",
   "execution_count": 75,
   "metadata": {},
   "outputs": [
    {
     "data": {
      "text/plain": [
       "{'Household': 0.9998680353164673,\n",
       " 'Electronics': 0.00013167731231078506,\n",
       " 'Books': 1.5873418135470274e-07,\n",
       " 'Clothing & Accessories': 9.72675877619622e-08}"
      ]
     },
     "execution_count": 75,
     "metadata": {},
     "output_type": "execute_result"
    }
   ],
   "source": [
    "doc.cats"
   ]
  },
  {
   "cell_type": "code",
   "execution_count": null,
   "metadata": {},
   "outputs": [],
   "source": []
  }
 ],
 "metadata": {
  "kernelspec": {
   "display_name": "venv",
   "language": "python",
   "name": "python3"
  },
  "language_info": {
   "codemirror_mode": {
    "name": "ipython",
    "version": 3
   },
   "file_extension": ".py",
   "mimetype": "text/x-python",
   "name": "python",
   "nbconvert_exporter": "python",
   "pygments_lexer": "ipython3",
   "version": "3.11.2"
  }
 },
 "nbformat": 4,
 "nbformat_minor": 2
}
